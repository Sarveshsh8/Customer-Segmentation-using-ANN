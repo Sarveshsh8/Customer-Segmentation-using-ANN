{
 "cells": [
  {
   "cell_type": "code",
   "execution_count": null,
   "metadata": {},
   "outputs": [],
   "source": []
  },
  {
   "cell_type": "code",
   "execution_count": 1,
   "metadata": {},
   "outputs": [
    {
     "name": "stdout",
     "output_type": "stream",
     "text": [
      "2.4.1\n"
     ]
    }
   ],
   "source": [
    "import tensorflow as tf\n",
    "print(tf.__version__)"
   ]
  },
  {
   "cell_type": "code",
   "execution_count": 2,
   "metadata": {},
   "outputs": [],
   "source": [
    "import pandas as pd\n",
    "import numpy as np\n",
    "import matplotlib.pyplot as plt\n",
    "import seaborn as sns"
   ]
  },
  {
   "cell_type": "code",
   "execution_count": 3,
   "metadata": {},
   "outputs": [],
   "source": [
    "dataset = pd.read_csv('Churn_Modelling.csv')"
   ]
  },
  {
   "cell_type": "code",
   "execution_count": 4,
   "metadata": {},
   "outputs": [
    {
     "data": {
      "text/html": [
       "<div>\n",
       "<style scoped>\n",
       "    .dataframe tbody tr th:only-of-type {\n",
       "        vertical-align: middle;\n",
       "    }\n",
       "\n",
       "    .dataframe tbody tr th {\n",
       "        vertical-align: top;\n",
       "    }\n",
       "\n",
       "    .dataframe thead th {\n",
       "        text-align: right;\n",
       "    }\n",
       "</style>\n",
       "<table border=\"1\" class=\"dataframe\">\n",
       "  <thead>\n",
       "    <tr style=\"text-align: right;\">\n",
       "      <th></th>\n",
       "      <th>RowNumber</th>\n",
       "      <th>CustomerId</th>\n",
       "      <th>Surname</th>\n",
       "      <th>CreditScore</th>\n",
       "      <th>Geography</th>\n",
       "      <th>Gender</th>\n",
       "      <th>Age</th>\n",
       "      <th>Tenure</th>\n",
       "      <th>Balance</th>\n",
       "      <th>NumOfProducts</th>\n",
       "      <th>HasCrCard</th>\n",
       "      <th>IsActiveMember</th>\n",
       "      <th>EstimatedSalary</th>\n",
       "      <th>Exited</th>\n",
       "    </tr>\n",
       "  </thead>\n",
       "  <tbody>\n",
       "    <tr>\n",
       "      <th>0</th>\n",
       "      <td>1</td>\n",
       "      <td>15634602</td>\n",
       "      <td>Hargrave</td>\n",
       "      <td>619</td>\n",
       "      <td>France</td>\n",
       "      <td>Female</td>\n",
       "      <td>42</td>\n",
       "      <td>2</td>\n",
       "      <td>0.00</td>\n",
       "      <td>1</td>\n",
       "      <td>1</td>\n",
       "      <td>1</td>\n",
       "      <td>101348.88</td>\n",
       "      <td>1</td>\n",
       "    </tr>\n",
       "    <tr>\n",
       "      <th>1</th>\n",
       "      <td>2</td>\n",
       "      <td>15647311</td>\n",
       "      <td>Hill</td>\n",
       "      <td>608</td>\n",
       "      <td>Spain</td>\n",
       "      <td>Female</td>\n",
       "      <td>41</td>\n",
       "      <td>1</td>\n",
       "      <td>83807.86</td>\n",
       "      <td>1</td>\n",
       "      <td>0</td>\n",
       "      <td>1</td>\n",
       "      <td>112542.58</td>\n",
       "      <td>0</td>\n",
       "    </tr>\n",
       "    <tr>\n",
       "      <th>2</th>\n",
       "      <td>3</td>\n",
       "      <td>15619304</td>\n",
       "      <td>Onio</td>\n",
       "      <td>502</td>\n",
       "      <td>France</td>\n",
       "      <td>Female</td>\n",
       "      <td>42</td>\n",
       "      <td>8</td>\n",
       "      <td>159660.80</td>\n",
       "      <td>3</td>\n",
       "      <td>1</td>\n",
       "      <td>0</td>\n",
       "      <td>113931.57</td>\n",
       "      <td>1</td>\n",
       "    </tr>\n",
       "    <tr>\n",
       "      <th>3</th>\n",
       "      <td>4</td>\n",
       "      <td>15701354</td>\n",
       "      <td>Boni</td>\n",
       "      <td>699</td>\n",
       "      <td>France</td>\n",
       "      <td>Female</td>\n",
       "      <td>39</td>\n",
       "      <td>1</td>\n",
       "      <td>0.00</td>\n",
       "      <td>2</td>\n",
       "      <td>0</td>\n",
       "      <td>0</td>\n",
       "      <td>93826.63</td>\n",
       "      <td>0</td>\n",
       "    </tr>\n",
       "    <tr>\n",
       "      <th>4</th>\n",
       "      <td>5</td>\n",
       "      <td>15737888</td>\n",
       "      <td>Mitchell</td>\n",
       "      <td>850</td>\n",
       "      <td>Spain</td>\n",
       "      <td>Female</td>\n",
       "      <td>43</td>\n",
       "      <td>2</td>\n",
       "      <td>125510.82</td>\n",
       "      <td>1</td>\n",
       "      <td>1</td>\n",
       "      <td>1</td>\n",
       "      <td>79084.10</td>\n",
       "      <td>0</td>\n",
       "    </tr>\n",
       "  </tbody>\n",
       "</table>\n",
       "</div>"
      ],
      "text/plain": [
       "   RowNumber  CustomerId   Surname  CreditScore Geography  Gender  Age  \\\n",
       "0          1    15634602  Hargrave          619    France  Female   42   \n",
       "1          2    15647311      Hill          608     Spain  Female   41   \n",
       "2          3    15619304      Onio          502    France  Female   42   \n",
       "3          4    15701354      Boni          699    France  Female   39   \n",
       "4          5    15737888  Mitchell          850     Spain  Female   43   \n",
       "\n",
       "   Tenure    Balance  NumOfProducts  HasCrCard  IsActiveMember  \\\n",
       "0       2       0.00              1          1               1   \n",
       "1       1   83807.86              1          0               1   \n",
       "2       8  159660.80              3          1               0   \n",
       "3       1       0.00              2          0               0   \n",
       "4       2  125510.82              1          1               1   \n",
       "\n",
       "   EstimatedSalary  Exited  \n",
       "0        101348.88       1  \n",
       "1        112542.58       0  \n",
       "2        113931.57       1  \n",
       "3         93826.63       0  \n",
       "4         79084.10       0  "
      ]
     },
     "execution_count": 4,
     "metadata": {},
     "output_type": "execute_result"
    }
   ],
   "source": [
    "dataset.head()"
   ]
  },
  {
   "cell_type": "code",
   "execution_count": 5,
   "metadata": {},
   "outputs": [
    {
     "data": {
      "text/plain": [
       "RowNumber          0\n",
       "CustomerId         0\n",
       "Surname            0\n",
       "CreditScore        0\n",
       "Geography          0\n",
       "Gender             0\n",
       "Age                0\n",
       "Tenure             0\n",
       "Balance            0\n",
       "NumOfProducts      0\n",
       "HasCrCard          0\n",
       "IsActiveMember     0\n",
       "EstimatedSalary    0\n",
       "Exited             0\n",
       "dtype: int64"
      ]
     },
     "execution_count": 5,
     "metadata": {},
     "output_type": "execute_result"
    }
   ],
   "source": [
    "dataset.isnull().sum()"
   ]
  },
  {
   "cell_type": "code",
   "execution_count": 6,
   "metadata": {},
   "outputs": [],
   "source": [
    "X = dataset.iloc[:, 3:13]\n",
    "y = dataset.iloc[:, 13]\n"
   ]
  },
  {
   "cell_type": "code",
   "execution_count": 7,
   "metadata": {},
   "outputs": [
    {
     "data": {
      "text/html": [
       "<div>\n",
       "<style scoped>\n",
       "    .dataframe tbody tr th:only-of-type {\n",
       "        vertical-align: middle;\n",
       "    }\n",
       "\n",
       "    .dataframe tbody tr th {\n",
       "        vertical-align: top;\n",
       "    }\n",
       "\n",
       "    .dataframe thead th {\n",
       "        text-align: right;\n",
       "    }\n",
       "</style>\n",
       "<table border=\"1\" class=\"dataframe\">\n",
       "  <thead>\n",
       "    <tr style=\"text-align: right;\">\n",
       "      <th></th>\n",
       "      <th>CreditScore</th>\n",
       "      <th>Geography</th>\n",
       "      <th>Gender</th>\n",
       "      <th>Age</th>\n",
       "      <th>Tenure</th>\n",
       "      <th>Balance</th>\n",
       "      <th>NumOfProducts</th>\n",
       "      <th>HasCrCard</th>\n",
       "      <th>IsActiveMember</th>\n",
       "      <th>EstimatedSalary</th>\n",
       "    </tr>\n",
       "  </thead>\n",
       "  <tbody>\n",
       "    <tr>\n",
       "      <th>0</th>\n",
       "      <td>619</td>\n",
       "      <td>France</td>\n",
       "      <td>Female</td>\n",
       "      <td>42</td>\n",
       "      <td>2</td>\n",
       "      <td>0.00</td>\n",
       "      <td>1</td>\n",
       "      <td>1</td>\n",
       "      <td>1</td>\n",
       "      <td>101348.88</td>\n",
       "    </tr>\n",
       "    <tr>\n",
       "      <th>1</th>\n",
       "      <td>608</td>\n",
       "      <td>Spain</td>\n",
       "      <td>Female</td>\n",
       "      <td>41</td>\n",
       "      <td>1</td>\n",
       "      <td>83807.86</td>\n",
       "      <td>1</td>\n",
       "      <td>0</td>\n",
       "      <td>1</td>\n",
       "      <td>112542.58</td>\n",
       "    </tr>\n",
       "    <tr>\n",
       "      <th>2</th>\n",
       "      <td>502</td>\n",
       "      <td>France</td>\n",
       "      <td>Female</td>\n",
       "      <td>42</td>\n",
       "      <td>8</td>\n",
       "      <td>159660.80</td>\n",
       "      <td>3</td>\n",
       "      <td>1</td>\n",
       "      <td>0</td>\n",
       "      <td>113931.57</td>\n",
       "    </tr>\n",
       "    <tr>\n",
       "      <th>3</th>\n",
       "      <td>699</td>\n",
       "      <td>France</td>\n",
       "      <td>Female</td>\n",
       "      <td>39</td>\n",
       "      <td>1</td>\n",
       "      <td>0.00</td>\n",
       "      <td>2</td>\n",
       "      <td>0</td>\n",
       "      <td>0</td>\n",
       "      <td>93826.63</td>\n",
       "    </tr>\n",
       "    <tr>\n",
       "      <th>4</th>\n",
       "      <td>850</td>\n",
       "      <td>Spain</td>\n",
       "      <td>Female</td>\n",
       "      <td>43</td>\n",
       "      <td>2</td>\n",
       "      <td>125510.82</td>\n",
       "      <td>1</td>\n",
       "      <td>1</td>\n",
       "      <td>1</td>\n",
       "      <td>79084.10</td>\n",
       "    </tr>\n",
       "  </tbody>\n",
       "</table>\n",
       "</div>"
      ],
      "text/plain": [
       "   CreditScore Geography  Gender  Age  Tenure    Balance  NumOfProducts  \\\n",
       "0          619    France  Female   42       2       0.00              1   \n",
       "1          608     Spain  Female   41       1   83807.86              1   \n",
       "2          502    France  Female   42       8  159660.80              3   \n",
       "3          699    France  Female   39       1       0.00              2   \n",
       "4          850     Spain  Female   43       2  125510.82              1   \n",
       "\n",
       "   HasCrCard  IsActiveMember  EstimatedSalary  \n",
       "0          1               1        101348.88  \n",
       "1          0               1        112542.58  \n",
       "2          1               0        113931.57  \n",
       "3          0               0         93826.63  \n",
       "4          1               1         79084.10  "
      ]
     },
     "execution_count": 7,
     "metadata": {},
     "output_type": "execute_result"
    }
   ],
   "source": [
    "X.head()"
   ]
  },
  {
   "cell_type": "code",
   "execution_count": 8,
   "metadata": {},
   "outputs": [
    {
     "data": {
      "text/plain": [
       "0    1\n",
       "1    0\n",
       "2    1\n",
       "3    0\n",
       "4    0\n",
       "Name: Exited, dtype: int64"
      ]
     },
     "execution_count": 8,
     "metadata": {},
     "output_type": "execute_result"
    }
   ],
   "source": [
    "y.head()"
   ]
  },
  {
   "cell_type": "code",
   "execution_count": 9,
   "metadata": {},
   "outputs": [],
   "source": [
    "geography = pd.get_dummies(X['Geography'], drop_first=True)\n",
    "gender = pd.get_dummies(X['Gender'], drop_first=True)"
   ]
  },
  {
   "cell_type": "code",
   "execution_count": 10,
   "metadata": {},
   "outputs": [
    {
     "data": {
      "text/html": [
       "<div>\n",
       "<style scoped>\n",
       "    .dataframe tbody tr th:only-of-type {\n",
       "        vertical-align: middle;\n",
       "    }\n",
       "\n",
       "    .dataframe tbody tr th {\n",
       "        vertical-align: top;\n",
       "    }\n",
       "\n",
       "    .dataframe thead th {\n",
       "        text-align: right;\n",
       "    }\n",
       "</style>\n",
       "<table border=\"1\" class=\"dataframe\">\n",
       "  <thead>\n",
       "    <tr style=\"text-align: right;\">\n",
       "      <th></th>\n",
       "      <th>Germany</th>\n",
       "      <th>Spain</th>\n",
       "    </tr>\n",
       "  </thead>\n",
       "  <tbody>\n",
       "    <tr>\n",
       "      <th>0</th>\n",
       "      <td>0</td>\n",
       "      <td>0</td>\n",
       "    </tr>\n",
       "    <tr>\n",
       "      <th>1</th>\n",
       "      <td>0</td>\n",
       "      <td>1</td>\n",
       "    </tr>\n",
       "    <tr>\n",
       "      <th>2</th>\n",
       "      <td>0</td>\n",
       "      <td>0</td>\n",
       "    </tr>\n",
       "    <tr>\n",
       "      <th>3</th>\n",
       "      <td>0</td>\n",
       "      <td>0</td>\n",
       "    </tr>\n",
       "    <tr>\n",
       "      <th>4</th>\n",
       "      <td>0</td>\n",
       "      <td>1</td>\n",
       "    </tr>\n",
       "    <tr>\n",
       "      <th>...</th>\n",
       "      <td>...</td>\n",
       "      <td>...</td>\n",
       "    </tr>\n",
       "    <tr>\n",
       "      <th>9995</th>\n",
       "      <td>0</td>\n",
       "      <td>0</td>\n",
       "    </tr>\n",
       "    <tr>\n",
       "      <th>9996</th>\n",
       "      <td>0</td>\n",
       "      <td>0</td>\n",
       "    </tr>\n",
       "    <tr>\n",
       "      <th>9997</th>\n",
       "      <td>0</td>\n",
       "      <td>0</td>\n",
       "    </tr>\n",
       "    <tr>\n",
       "      <th>9998</th>\n",
       "      <td>1</td>\n",
       "      <td>0</td>\n",
       "    </tr>\n",
       "    <tr>\n",
       "      <th>9999</th>\n",
       "      <td>0</td>\n",
       "      <td>0</td>\n",
       "    </tr>\n",
       "  </tbody>\n",
       "</table>\n",
       "<p>10000 rows × 2 columns</p>\n",
       "</div>"
      ],
      "text/plain": [
       "      Germany  Spain\n",
       "0           0      0\n",
       "1           0      1\n",
       "2           0      0\n",
       "3           0      0\n",
       "4           0      1\n",
       "...       ...    ...\n",
       "9995        0      0\n",
       "9996        0      0\n",
       "9997        0      0\n",
       "9998        1      0\n",
       "9999        0      0\n",
       "\n",
       "[10000 rows x 2 columns]"
      ]
     },
     "execution_count": 10,
     "metadata": {},
     "output_type": "execute_result"
    }
   ],
   "source": [
    "geography"
   ]
  },
  {
   "cell_type": "code",
   "execution_count": 11,
   "metadata": {},
   "outputs": [
    {
     "data": {
      "text/html": [
       "<div>\n",
       "<style scoped>\n",
       "    .dataframe tbody tr th:only-of-type {\n",
       "        vertical-align: middle;\n",
       "    }\n",
       "\n",
       "    .dataframe tbody tr th {\n",
       "        vertical-align: top;\n",
       "    }\n",
       "\n",
       "    .dataframe thead th {\n",
       "        text-align: right;\n",
       "    }\n",
       "</style>\n",
       "<table border=\"1\" class=\"dataframe\">\n",
       "  <thead>\n",
       "    <tr style=\"text-align: right;\">\n",
       "      <th></th>\n",
       "      <th>Male</th>\n",
       "    </tr>\n",
       "  </thead>\n",
       "  <tbody>\n",
       "    <tr>\n",
       "      <th>0</th>\n",
       "      <td>0</td>\n",
       "    </tr>\n",
       "    <tr>\n",
       "      <th>1</th>\n",
       "      <td>0</td>\n",
       "    </tr>\n",
       "    <tr>\n",
       "      <th>2</th>\n",
       "      <td>0</td>\n",
       "    </tr>\n",
       "    <tr>\n",
       "      <th>3</th>\n",
       "      <td>0</td>\n",
       "    </tr>\n",
       "    <tr>\n",
       "      <th>4</th>\n",
       "      <td>0</td>\n",
       "    </tr>\n",
       "    <tr>\n",
       "      <th>...</th>\n",
       "      <td>...</td>\n",
       "    </tr>\n",
       "    <tr>\n",
       "      <th>9995</th>\n",
       "      <td>1</td>\n",
       "    </tr>\n",
       "    <tr>\n",
       "      <th>9996</th>\n",
       "      <td>1</td>\n",
       "    </tr>\n",
       "    <tr>\n",
       "      <th>9997</th>\n",
       "      <td>0</td>\n",
       "    </tr>\n",
       "    <tr>\n",
       "      <th>9998</th>\n",
       "      <td>1</td>\n",
       "    </tr>\n",
       "    <tr>\n",
       "      <th>9999</th>\n",
       "      <td>0</td>\n",
       "    </tr>\n",
       "  </tbody>\n",
       "</table>\n",
       "<p>10000 rows × 1 columns</p>\n",
       "</div>"
      ],
      "text/plain": [
       "      Male\n",
       "0        0\n",
       "1        0\n",
       "2        0\n",
       "3        0\n",
       "4        0\n",
       "...    ...\n",
       "9995     1\n",
       "9996     1\n",
       "9997     0\n",
       "9998     1\n",
       "9999     0\n",
       "\n",
       "[10000 rows x 1 columns]"
      ]
     },
     "execution_count": 11,
     "metadata": {},
     "output_type": "execute_result"
    }
   ],
   "source": [
    "gender"
   ]
  },
  {
   "cell_type": "code",
   "execution_count": 12,
   "metadata": {},
   "outputs": [],
   "source": [
    "X = pd.concat([X, geography, gender], axis=1)"
   ]
  },
  {
   "cell_type": "code",
   "execution_count": 13,
   "metadata": {},
   "outputs": [
    {
     "data": {
      "text/html": [
       "<div>\n",
       "<style scoped>\n",
       "    .dataframe tbody tr th:only-of-type {\n",
       "        vertical-align: middle;\n",
       "    }\n",
       "\n",
       "    .dataframe tbody tr th {\n",
       "        vertical-align: top;\n",
       "    }\n",
       "\n",
       "    .dataframe thead th {\n",
       "        text-align: right;\n",
       "    }\n",
       "</style>\n",
       "<table border=\"1\" class=\"dataframe\">\n",
       "  <thead>\n",
       "    <tr style=\"text-align: right;\">\n",
       "      <th></th>\n",
       "      <th>CreditScore</th>\n",
       "      <th>Geography</th>\n",
       "      <th>Gender</th>\n",
       "      <th>Age</th>\n",
       "      <th>Tenure</th>\n",
       "      <th>Balance</th>\n",
       "      <th>NumOfProducts</th>\n",
       "      <th>HasCrCard</th>\n",
       "      <th>IsActiveMember</th>\n",
       "      <th>EstimatedSalary</th>\n",
       "      <th>Germany</th>\n",
       "      <th>Spain</th>\n",
       "      <th>Male</th>\n",
       "    </tr>\n",
       "  </thead>\n",
       "  <tbody>\n",
       "    <tr>\n",
       "      <th>0</th>\n",
       "      <td>619</td>\n",
       "      <td>France</td>\n",
       "      <td>Female</td>\n",
       "      <td>42</td>\n",
       "      <td>2</td>\n",
       "      <td>0.00</td>\n",
       "      <td>1</td>\n",
       "      <td>1</td>\n",
       "      <td>1</td>\n",
       "      <td>101348.88</td>\n",
       "      <td>0</td>\n",
       "      <td>0</td>\n",
       "      <td>0</td>\n",
       "    </tr>\n",
       "    <tr>\n",
       "      <th>1</th>\n",
       "      <td>608</td>\n",
       "      <td>Spain</td>\n",
       "      <td>Female</td>\n",
       "      <td>41</td>\n",
       "      <td>1</td>\n",
       "      <td>83807.86</td>\n",
       "      <td>1</td>\n",
       "      <td>0</td>\n",
       "      <td>1</td>\n",
       "      <td>112542.58</td>\n",
       "      <td>0</td>\n",
       "      <td>1</td>\n",
       "      <td>0</td>\n",
       "    </tr>\n",
       "    <tr>\n",
       "      <th>2</th>\n",
       "      <td>502</td>\n",
       "      <td>France</td>\n",
       "      <td>Female</td>\n",
       "      <td>42</td>\n",
       "      <td>8</td>\n",
       "      <td>159660.80</td>\n",
       "      <td>3</td>\n",
       "      <td>1</td>\n",
       "      <td>0</td>\n",
       "      <td>113931.57</td>\n",
       "      <td>0</td>\n",
       "      <td>0</td>\n",
       "      <td>0</td>\n",
       "    </tr>\n",
       "    <tr>\n",
       "      <th>3</th>\n",
       "      <td>699</td>\n",
       "      <td>France</td>\n",
       "      <td>Female</td>\n",
       "      <td>39</td>\n",
       "      <td>1</td>\n",
       "      <td>0.00</td>\n",
       "      <td>2</td>\n",
       "      <td>0</td>\n",
       "      <td>0</td>\n",
       "      <td>93826.63</td>\n",
       "      <td>0</td>\n",
       "      <td>0</td>\n",
       "      <td>0</td>\n",
       "    </tr>\n",
       "    <tr>\n",
       "      <th>4</th>\n",
       "      <td>850</td>\n",
       "      <td>Spain</td>\n",
       "      <td>Female</td>\n",
       "      <td>43</td>\n",
       "      <td>2</td>\n",
       "      <td>125510.82</td>\n",
       "      <td>1</td>\n",
       "      <td>1</td>\n",
       "      <td>1</td>\n",
       "      <td>79084.10</td>\n",
       "      <td>0</td>\n",
       "      <td>1</td>\n",
       "      <td>0</td>\n",
       "    </tr>\n",
       "  </tbody>\n",
       "</table>\n",
       "</div>"
      ],
      "text/plain": [
       "   CreditScore Geography  Gender  Age  Tenure    Balance  NumOfProducts  \\\n",
       "0          619    France  Female   42       2       0.00              1   \n",
       "1          608     Spain  Female   41       1   83807.86              1   \n",
       "2          502    France  Female   42       8  159660.80              3   \n",
       "3          699    France  Female   39       1       0.00              2   \n",
       "4          850     Spain  Female   43       2  125510.82              1   \n",
       "\n",
       "   HasCrCard  IsActiveMember  EstimatedSalary  Germany  Spain  Male  \n",
       "0          1               1        101348.88        0      0     0  \n",
       "1          0               1        112542.58        0      1     0  \n",
       "2          1               0        113931.57        0      0     0  \n",
       "3          0               0         93826.63        0      0     0  \n",
       "4          1               1         79084.10        0      1     0  "
      ]
     },
     "execution_count": 13,
     "metadata": {},
     "output_type": "execute_result"
    }
   ],
   "source": [
    "X.head()"
   ]
  },
  {
   "cell_type": "code",
   "execution_count": 14,
   "metadata": {},
   "outputs": [],
   "source": [
    "X = X.drop(['Geography', 'Gender'], axis=1)"
   ]
  },
  {
   "cell_type": "code",
   "execution_count": 15,
   "metadata": {},
   "outputs": [
    {
     "data": {
      "text/html": [
       "<div>\n",
       "<style scoped>\n",
       "    .dataframe tbody tr th:only-of-type {\n",
       "        vertical-align: middle;\n",
       "    }\n",
       "\n",
       "    .dataframe tbody tr th {\n",
       "        vertical-align: top;\n",
       "    }\n",
       "\n",
       "    .dataframe thead th {\n",
       "        text-align: right;\n",
       "    }\n",
       "</style>\n",
       "<table border=\"1\" class=\"dataframe\">\n",
       "  <thead>\n",
       "    <tr style=\"text-align: right;\">\n",
       "      <th></th>\n",
       "      <th>CreditScore</th>\n",
       "      <th>Age</th>\n",
       "      <th>Tenure</th>\n",
       "      <th>Balance</th>\n",
       "      <th>NumOfProducts</th>\n",
       "      <th>HasCrCard</th>\n",
       "      <th>IsActiveMember</th>\n",
       "      <th>EstimatedSalary</th>\n",
       "      <th>Germany</th>\n",
       "      <th>Spain</th>\n",
       "      <th>Male</th>\n",
       "    </tr>\n",
       "  </thead>\n",
       "  <tbody>\n",
       "    <tr>\n",
       "      <th>0</th>\n",
       "      <td>619</td>\n",
       "      <td>42</td>\n",
       "      <td>2</td>\n",
       "      <td>0.00</td>\n",
       "      <td>1</td>\n",
       "      <td>1</td>\n",
       "      <td>1</td>\n",
       "      <td>101348.88</td>\n",
       "      <td>0</td>\n",
       "      <td>0</td>\n",
       "      <td>0</td>\n",
       "    </tr>\n",
       "    <tr>\n",
       "      <th>1</th>\n",
       "      <td>608</td>\n",
       "      <td>41</td>\n",
       "      <td>1</td>\n",
       "      <td>83807.86</td>\n",
       "      <td>1</td>\n",
       "      <td>0</td>\n",
       "      <td>1</td>\n",
       "      <td>112542.58</td>\n",
       "      <td>0</td>\n",
       "      <td>1</td>\n",
       "      <td>0</td>\n",
       "    </tr>\n",
       "    <tr>\n",
       "      <th>2</th>\n",
       "      <td>502</td>\n",
       "      <td>42</td>\n",
       "      <td>8</td>\n",
       "      <td>159660.80</td>\n",
       "      <td>3</td>\n",
       "      <td>1</td>\n",
       "      <td>0</td>\n",
       "      <td>113931.57</td>\n",
       "      <td>0</td>\n",
       "      <td>0</td>\n",
       "      <td>0</td>\n",
       "    </tr>\n",
       "    <tr>\n",
       "      <th>3</th>\n",
       "      <td>699</td>\n",
       "      <td>39</td>\n",
       "      <td>1</td>\n",
       "      <td>0.00</td>\n",
       "      <td>2</td>\n",
       "      <td>0</td>\n",
       "      <td>0</td>\n",
       "      <td>93826.63</td>\n",
       "      <td>0</td>\n",
       "      <td>0</td>\n",
       "      <td>0</td>\n",
       "    </tr>\n",
       "    <tr>\n",
       "      <th>4</th>\n",
       "      <td>850</td>\n",
       "      <td>43</td>\n",
       "      <td>2</td>\n",
       "      <td>125510.82</td>\n",
       "      <td>1</td>\n",
       "      <td>1</td>\n",
       "      <td>1</td>\n",
       "      <td>79084.10</td>\n",
       "      <td>0</td>\n",
       "      <td>1</td>\n",
       "      <td>0</td>\n",
       "    </tr>\n",
       "  </tbody>\n",
       "</table>\n",
       "</div>"
      ],
      "text/plain": [
       "   CreditScore  Age  Tenure    Balance  NumOfProducts  HasCrCard  \\\n",
       "0          619   42       2       0.00              1          1   \n",
       "1          608   41       1   83807.86              1          0   \n",
       "2          502   42       8  159660.80              3          1   \n",
       "3          699   39       1       0.00              2          0   \n",
       "4          850   43       2  125510.82              1          1   \n",
       "\n",
       "   IsActiveMember  EstimatedSalary  Germany  Spain  Male  \n",
       "0               1        101348.88        0      0     0  \n",
       "1               1        112542.58        0      1     0  \n",
       "2               0        113931.57        0      0     0  \n",
       "3               0         93826.63        0      0     0  \n",
       "4               1         79084.10        0      1     0  "
      ]
     },
     "execution_count": 15,
     "metadata": {},
     "output_type": "execute_result"
    }
   ],
   "source": [
    "X.head()"
   ]
  },
  {
   "cell_type": "code",
   "execution_count": 16,
   "metadata": {},
   "outputs": [
    {
     "data": {
      "text/plain": [
       "(10000, 11)"
      ]
     },
     "execution_count": 16,
     "metadata": {},
     "output_type": "execute_result"
    }
   ],
   "source": [
    "X.shape"
   ]
  },
  {
   "cell_type": "code",
   "execution_count": 17,
   "metadata": {},
   "outputs": [
    {
     "data": {
      "text/plain": [
       "0    1\n",
       "1    0\n",
       "2    1\n",
       "3    0\n",
       "4    0\n",
       "Name: Exited, dtype: int64"
      ]
     },
     "execution_count": 17,
     "metadata": {},
     "output_type": "execute_result"
    }
   ],
   "source": [
    "y.head()"
   ]
  },
  {
   "cell_type": "code",
   "execution_count": 18,
   "metadata": {},
   "outputs": [
    {
     "data": {
      "text/plain": [
       "(10000,)"
      ]
     },
     "execution_count": 18,
     "metadata": {},
     "output_type": "execute_result"
    }
   ],
   "source": [
    "y.shape"
   ]
  },
  {
   "cell_type": "code",
   "execution_count": 19,
   "metadata": {},
   "outputs": [],
   "source": [
    "from sklearn.model_selection import train_test_split\n",
    "X_train, X_test, y_train, y_test = train_test_split(X,y, test_size=0.2, random_state=0)"
   ]
  },
  {
   "cell_type": "code",
   "execution_count": 20,
   "metadata": {},
   "outputs": [],
   "source": [
    "from sklearn.preprocessing import StandardScaler\n",
    "sc = StandardScaler()\n",
    "X_train = sc.fit_transform(X_train)"
   ]
  },
  {
   "cell_type": "code",
   "execution_count": 21,
   "metadata": {},
   "outputs": [],
   "source": [
    "X_test = sc.transform(X_test)"
   ]
  },
  {
   "cell_type": "code",
   "execution_count": 30,
   "metadata": {},
   "outputs": [
    {
     "data": {
      "text/plain": [
       "(8000, 11)"
      ]
     },
     "execution_count": 30,
     "metadata": {},
     "output_type": "execute_result"
    }
   ],
   "source": [
    "X_train.shape"
   ]
  },
  {
   "cell_type": "code",
   "execution_count": 23,
   "metadata": {},
   "outputs": [
    {
     "data": {
      "text/plain": [
       "array([[-0.55204276, -0.36890377,  1.04473698, ...,  1.75486502,\n",
       "        -0.57369368, -1.09168714],\n",
       "       [-1.31490297,  0.10961719, -1.031415  , ..., -0.5698444 ,\n",
       "        -0.57369368, -1.09168714],\n",
       "       [ 0.57162971,  0.30102557,  1.04473698, ..., -0.5698444 ,\n",
       "         1.74309049, -1.09168714],\n",
       "       ...,\n",
       "       [-0.74791227, -0.27319958, -1.37744033, ..., -0.5698444 ,\n",
       "         1.74309049,  0.91601335],\n",
       "       [-0.00566991, -0.46460796, -0.33936434, ...,  1.75486502,\n",
       "        -0.57369368,  0.91601335],\n",
       "       [-0.79945688, -0.84742473,  1.04473698, ...,  1.75486502,\n",
       "        -0.57369368,  0.91601335]])"
      ]
     },
     "execution_count": 23,
     "metadata": {},
     "output_type": "execute_result"
    }
   ],
   "source": [
    "X_test"
   ]
  },
  {
   "cell_type": "code",
   "execution_count": 24,
   "metadata": {},
   "outputs": [],
   "source": [
    "#ANN"
   ]
  },
  {
   "cell_type": "code",
   "execution_count": 25,
   "metadata": {},
   "outputs": [],
   "source": [
    "import tensorflow.keras\n",
    "from tensorflow.keras.models import Sequential\n",
    "from tensorflow.keras.layers import Dense\n",
    "from tensorflow.keras.layers import Dropout"
   ]
  },
  {
   "cell_type": "code",
   "execution_count": 27,
   "metadata": {},
   "outputs": [],
   "source": [
    "classifier = Sequential()\n",
    "\n",
    "classifier.add(Dense(units=10, kernel_initializer='he_uniform', activation='relu', input_dim=11))\n",
    "classifier.add(Dense(units = 10, kernel_initializer = 'he_uniform',activation='relu'))\n",
    "classifier.add(Dense(units = 1, kernel_initializer = 'glorot_uniform',activation='sigmoid'))\n",
    "\n",
    "classifier.compile(optimizer='adam', loss='binary_crossentropy', metrics = ['accuracy'])\n"
   ]
  },
  {
   "cell_type": "code",
   "execution_count": 28,
   "metadata": {},
   "outputs": [
    {
     "name": "stdout",
     "output_type": "stream",
     "text": [
      "Model: \"sequential_1\"\n",
      "_________________________________________________________________\n",
      "Layer (type)                 Output Shape              Param #   \n",
      "=================================================================\n",
      "dense_1 (Dense)              (None, 10)                120       \n",
      "_________________________________________________________________\n",
      "dense_2 (Dense)              (None, 10)                110       \n",
      "_________________________________________________________________\n",
      "dense_3 (Dense)              (None, 1)                 11        \n",
      "=================================================================\n",
      "Total params: 241\n",
      "Trainable params: 241\n",
      "Non-trainable params: 0\n",
      "_________________________________________________________________\n"
     ]
    }
   ],
   "source": [
    "classifier.summary()"
   ]
  },
  {
   "cell_type": "code",
   "execution_count": 29,
   "metadata": {},
   "outputs": [
    {
     "data": {
      "text/plain": [
       "(8000, 11)"
      ]
     },
     "execution_count": 29,
     "metadata": {},
     "output_type": "execute_result"
    }
   ],
   "source": [
    "X_train.shape"
   ]
  },
  {
   "cell_type": "code",
   "execution_count": 31,
   "metadata": {},
   "outputs": [
    {
     "name": "stdout",
     "output_type": "stream",
     "text": [
      "Epoch 1/100\n",
      "54/54 [==============================] - 2s 12ms/step - loss: 0.7115 - accuracy: 0.6254 - val_loss: 0.6092 - val_accuracy: 0.7293\n",
      "Epoch 2/100\n",
      "54/54 [==============================] - 0s 2ms/step - loss: 0.5802 - accuracy: 0.7428 - val_loss: 0.5507 - val_accuracy: 0.7698\n",
      "Epoch 3/100\n",
      "54/54 [==============================] - 0s 2ms/step - loss: 0.5286 - accuracy: 0.7704 - val_loss: 0.5164 - val_accuracy: 0.7910\n",
      "Epoch 4/100\n",
      "54/54 [==============================] - 0s 2ms/step - loss: 0.4950 - accuracy: 0.7988 - val_loss: 0.4940 - val_accuracy: 0.7989\n",
      "Epoch 5/100\n",
      "54/54 [==============================] - 0s 2ms/step - loss: 0.4654 - accuracy: 0.7995 - val_loss: 0.4790 - val_accuracy: 0.8027\n",
      "Epoch 6/100\n",
      "54/54 [==============================] - 0s 2ms/step - loss: 0.4648 - accuracy: 0.7975 - val_loss: 0.4683 - val_accuracy: 0.8065\n",
      "Epoch 7/100\n",
      "54/54 [==============================] - 0s 2ms/step - loss: 0.4465 - accuracy: 0.8128 - val_loss: 0.4604 - val_accuracy: 0.8084\n",
      "Epoch 8/100\n",
      "54/54 [==============================] - 0s 2ms/step - loss: 0.4335 - accuracy: 0.8140 - val_loss: 0.4541 - val_accuracy: 0.8099\n",
      "Epoch 9/100\n",
      "54/54 [==============================] - 0s 2ms/step - loss: 0.4260 - accuracy: 0.8195 - val_loss: 0.4492 - val_accuracy: 0.8160\n",
      "Epoch 10/100\n",
      "54/54 [==============================] - 0s 2ms/step - loss: 0.4172 - accuracy: 0.8253 - val_loss: 0.4447 - val_accuracy: 0.8103\n",
      "Epoch 11/100\n",
      "54/54 [==============================] - 0s 2ms/step - loss: 0.4112 - accuracy: 0.8259 - val_loss: 0.4411 - val_accuracy: 0.8129\n",
      "Epoch 12/100\n",
      "54/54 [==============================] - 0s 2ms/step - loss: 0.4186 - accuracy: 0.8218 - val_loss: 0.4373 - val_accuracy: 0.8141\n",
      "Epoch 13/100\n",
      "54/54 [==============================] - 0s 2ms/step - loss: 0.4058 - accuracy: 0.8319 - val_loss: 0.4341 - val_accuracy: 0.8167\n",
      "Epoch 14/100\n",
      "54/54 [==============================] - 0s 2ms/step - loss: 0.4092 - accuracy: 0.8246 - val_loss: 0.4313 - val_accuracy: 0.8213\n",
      "Epoch 15/100\n",
      "54/54 [==============================] - 0s 2ms/step - loss: 0.4049 - accuracy: 0.8279 - val_loss: 0.4282 - val_accuracy: 0.8201\n",
      "Epoch 16/100\n",
      "54/54 [==============================] - 0s 2ms/step - loss: 0.4085 - accuracy: 0.8291 - val_loss: 0.4245 - val_accuracy: 0.8258\n",
      "Epoch 17/100\n",
      "54/54 [==============================] - 0s 2ms/step - loss: 0.3969 - accuracy: 0.8374 - val_loss: 0.4216 - val_accuracy: 0.8239\n",
      "Epoch 18/100\n",
      "54/54 [==============================] - 0s 2ms/step - loss: 0.3867 - accuracy: 0.8406 - val_loss: 0.4182 - val_accuracy: 0.8270\n",
      "Epoch 19/100\n",
      "54/54 [==============================] - 0s 3ms/step - loss: 0.3888 - accuracy: 0.8415 - val_loss: 0.4150 - val_accuracy: 0.8270\n",
      "Epoch 20/100\n",
      "54/54 [==============================] - 0s 2ms/step - loss: 0.3810 - accuracy: 0.8405 - val_loss: 0.4132 - val_accuracy: 0.8277\n",
      "Epoch 21/100\n",
      "54/54 [==============================] - 0s 2ms/step - loss: 0.3957 - accuracy: 0.8295 - val_loss: 0.4093 - val_accuracy: 0.8304\n",
      "Epoch 22/100\n",
      "54/54 [==============================] - 0s 2ms/step - loss: 0.3845 - accuracy: 0.8405 - val_loss: 0.4061 - val_accuracy: 0.8323\n",
      "Epoch 23/100\n",
      "54/54 [==============================] - 0s 2ms/step - loss: 0.3761 - accuracy: 0.8415 - val_loss: 0.4032 - val_accuracy: 0.8334\n",
      "Epoch 24/100\n",
      "54/54 [==============================] - 0s 2ms/step - loss: 0.3664 - accuracy: 0.8517 - val_loss: 0.4009 - val_accuracy: 0.8338\n",
      "Epoch 25/100\n",
      "54/54 [==============================] - 0s 2ms/step - loss: 0.3671 - accuracy: 0.8557 - val_loss: 0.3982 - val_accuracy: 0.8345\n",
      "Epoch 26/100\n",
      "54/54 [==============================] - 0s 2ms/step - loss: 0.3661 - accuracy: 0.8491 - val_loss: 0.3951 - val_accuracy: 0.8349\n",
      "Epoch 27/100\n",
      "54/54 [==============================] - 0s 2ms/step - loss: 0.3655 - accuracy: 0.8501 - val_loss: 0.3925 - val_accuracy: 0.8357\n",
      "Epoch 28/100\n",
      "54/54 [==============================] - 0s 2ms/step - loss: 0.3606 - accuracy: 0.8542 - val_loss: 0.3904 - val_accuracy: 0.8372\n",
      "Epoch 29/100\n",
      "54/54 [==============================] - 0s 2ms/step - loss: 0.3576 - accuracy: 0.8546 - val_loss: 0.3880 - val_accuracy: 0.8379\n",
      "Epoch 30/100\n",
      "54/54 [==============================] - 0s 2ms/step - loss: 0.3476 - accuracy: 0.8636 - val_loss: 0.3858 - val_accuracy: 0.8391\n",
      "Epoch 31/100\n",
      "54/54 [==============================] - 0s 2ms/step - loss: 0.3482 - accuracy: 0.8578 - val_loss: 0.3842 - val_accuracy: 0.8391\n",
      "Epoch 32/100\n",
      "54/54 [==============================] - 0s 2ms/step - loss: 0.3702 - accuracy: 0.8506 - val_loss: 0.3829 - val_accuracy: 0.8391\n",
      "Epoch 33/100\n",
      "54/54 [==============================] - 0s 2ms/step - loss: 0.3521 - accuracy: 0.8580 - val_loss: 0.3814 - val_accuracy: 0.8402\n",
      "Epoch 34/100\n",
      "54/54 [==============================] - 0s 2ms/step - loss: 0.3389 - accuracy: 0.8628 - val_loss: 0.3800 - val_accuracy: 0.8413\n",
      "Epoch 35/100\n",
      "54/54 [==============================] - 0s 2ms/step - loss: 0.3516 - accuracy: 0.8541 - val_loss: 0.3788 - val_accuracy: 0.8410\n",
      "Epoch 36/100\n",
      "54/54 [==============================] - 0s 2ms/step - loss: 0.3384 - accuracy: 0.8616 - val_loss: 0.3775 - val_accuracy: 0.8406\n",
      "Epoch 37/100\n",
      "54/54 [==============================] - 0s 2ms/step - loss: 0.3524 - accuracy: 0.8544 - val_loss: 0.3770 - val_accuracy: 0.8425\n",
      "Epoch 38/100\n",
      "54/54 [==============================] - 0s 2ms/step - loss: 0.3463 - accuracy: 0.8635 - val_loss: 0.3763 - val_accuracy: 0.8440\n",
      "Epoch 39/100\n",
      "54/54 [==============================] - 0s 2ms/step - loss: 0.3375 - accuracy: 0.8613 - val_loss: 0.3752 - val_accuracy: 0.8448\n",
      "Epoch 40/100\n",
      "54/54 [==============================] - 0s 2ms/step - loss: 0.3476 - accuracy: 0.8577 - val_loss: 0.3750 - val_accuracy: 0.8451\n",
      "Epoch 41/100\n",
      "54/54 [==============================] - 0s 2ms/step - loss: 0.3352 - accuracy: 0.8622 - val_loss: 0.3745 - val_accuracy: 0.8440\n",
      "Epoch 42/100\n",
      "54/54 [==============================] - 0s 2ms/step - loss: 0.3466 - accuracy: 0.8606 - val_loss: 0.3739 - val_accuracy: 0.8444\n",
      "Epoch 43/100\n",
      "54/54 [==============================] - 0s 2ms/step - loss: 0.3386 - accuracy: 0.8605 - val_loss: 0.3732 - val_accuracy: 0.8451\n",
      "Epoch 44/100\n",
      "54/54 [==============================] - 0s 2ms/step - loss: 0.3354 - accuracy: 0.8643 - val_loss: 0.3737 - val_accuracy: 0.8440\n",
      "Epoch 45/100\n",
      "54/54 [==============================] - 0s 2ms/step - loss: 0.3385 - accuracy: 0.8654 - val_loss: 0.3727 - val_accuracy: 0.8440\n",
      "Epoch 46/100\n",
      "54/54 [==============================] - 0s 2ms/step - loss: 0.3399 - accuracy: 0.8602 - val_loss: 0.3721 - val_accuracy: 0.8421\n",
      "Epoch 47/100\n",
      "54/54 [==============================] - 0s 2ms/step - loss: 0.3355 - accuracy: 0.8623 - val_loss: 0.3718 - val_accuracy: 0.8432\n",
      "Epoch 48/100\n",
      "54/54 [==============================] - 0s 2ms/step - loss: 0.3408 - accuracy: 0.8599 - val_loss: 0.3716 - val_accuracy: 0.8432\n",
      "Epoch 49/100\n",
      "54/54 [==============================] - 0s 2ms/step - loss: 0.3175 - accuracy: 0.8710 - val_loss: 0.3720 - val_accuracy: 0.8466\n",
      "Epoch 50/100\n",
      "54/54 [==============================] - 0s 2ms/step - loss: 0.3333 - accuracy: 0.8623 - val_loss: 0.3713 - val_accuracy: 0.8436\n",
      "Epoch 51/100\n",
      "54/54 [==============================] - 0s 2ms/step - loss: 0.3351 - accuracy: 0.8645 - val_loss: 0.3704 - val_accuracy: 0.8432\n",
      "Epoch 52/100\n",
      "54/54 [==============================] - 0s 2ms/step - loss: 0.3367 - accuracy: 0.8592 - val_loss: 0.3708 - val_accuracy: 0.8470\n",
      "Epoch 53/100\n",
      "54/54 [==============================] - 0s 2ms/step - loss: 0.3370 - accuracy: 0.8660 - val_loss: 0.3707 - val_accuracy: 0.8470\n",
      "Epoch 54/100\n",
      "54/54 [==============================] - 0s 2ms/step - loss: 0.3407 - accuracy: 0.8582 - val_loss: 0.3709 - val_accuracy: 0.8459\n",
      "Epoch 55/100\n",
      "54/54 [==============================] - 0s 2ms/step - loss: 0.3310 - accuracy: 0.8633 - val_loss: 0.3697 - val_accuracy: 0.8448\n",
      "Epoch 56/100\n",
      "54/54 [==============================] - 0s 2ms/step - loss: 0.3366 - accuracy: 0.8663 - val_loss: 0.3696 - val_accuracy: 0.8444\n",
      "Epoch 57/100\n",
      "54/54 [==============================] - 0s 2ms/step - loss: 0.3303 - accuracy: 0.8636 - val_loss: 0.3693 - val_accuracy: 0.8455\n",
      "Epoch 58/100\n",
      "54/54 [==============================] - 0s 2ms/step - loss: 0.3406 - accuracy: 0.8585 - val_loss: 0.3695 - val_accuracy: 0.8470\n",
      "Epoch 59/100\n",
      "54/54 [==============================] - 0s 2ms/step - loss: 0.3367 - accuracy: 0.8578 - val_loss: 0.3698 - val_accuracy: 0.8466\n",
      "Epoch 60/100\n",
      "54/54 [==============================] - 0s 2ms/step - loss: 0.3127 - accuracy: 0.8735 - val_loss: 0.3695 - val_accuracy: 0.8470\n",
      "Epoch 61/100\n",
      "54/54 [==============================] - 0s 2ms/step - loss: 0.3332 - accuracy: 0.8613 - val_loss: 0.3690 - val_accuracy: 0.8459\n",
      "Epoch 62/100\n",
      "54/54 [==============================] - 0s 2ms/step - loss: 0.3279 - accuracy: 0.8639 - val_loss: 0.3688 - val_accuracy: 0.8466\n",
      "Epoch 63/100\n",
      "54/54 [==============================] - 0s 3ms/step - loss: 0.3344 - accuracy: 0.8631 - val_loss: 0.3689 - val_accuracy: 0.8478\n",
      "Epoch 64/100\n",
      "54/54 [==============================] - 0s 2ms/step - loss: 0.3418 - accuracy: 0.8626 - val_loss: 0.3687 - val_accuracy: 0.8466\n",
      "Epoch 65/100\n",
      "54/54 [==============================] - 0s 2ms/step - loss: 0.3261 - accuracy: 0.8661 - val_loss: 0.3684 - val_accuracy: 0.8466\n",
      "Epoch 66/100\n",
      "54/54 [==============================] - 0s 2ms/step - loss: 0.3166 - accuracy: 0.8730 - val_loss: 0.3686 - val_accuracy: 0.8455\n",
      "Epoch 67/100\n",
      "54/54 [==============================] - 0s 2ms/step - loss: 0.3149 - accuracy: 0.8740 - val_loss: 0.3684 - val_accuracy: 0.8466\n",
      "Epoch 68/100\n",
      "54/54 [==============================] - 0s 2ms/step - loss: 0.3224 - accuracy: 0.8695 - val_loss: 0.3684 - val_accuracy: 0.8444\n",
      "Epoch 69/100\n",
      "54/54 [==============================] - 0s 2ms/step - loss: 0.3138 - accuracy: 0.8735 - val_loss: 0.3683 - val_accuracy: 0.8466\n",
      "Epoch 70/100\n",
      "54/54 [==============================] - 0s 2ms/step - loss: 0.3361 - accuracy: 0.8626 - val_loss: 0.3683 - val_accuracy: 0.8466\n",
      "Epoch 71/100\n",
      "54/54 [==============================] - 0s 2ms/step - loss: 0.3244 - accuracy: 0.8656 - val_loss: 0.3683 - val_accuracy: 0.8466\n",
      "Epoch 72/100\n",
      "54/54 [==============================] - 0s 2ms/step - loss: 0.3375 - accuracy: 0.8640 - val_loss: 0.3684 - val_accuracy: 0.8470\n",
      "Epoch 73/100\n",
      "54/54 [==============================] - 0s 2ms/step - loss: 0.3261 - accuracy: 0.8691 - val_loss: 0.3681 - val_accuracy: 0.8459\n",
      "Epoch 74/100\n",
      "54/54 [==============================] - 0s 2ms/step - loss: 0.3346 - accuracy: 0.8600 - val_loss: 0.3684 - val_accuracy: 0.8455\n",
      "Epoch 75/100\n",
      "54/54 [==============================] - 0s 3ms/step - loss: 0.3179 - accuracy: 0.8743 - val_loss: 0.3682 - val_accuracy: 0.8463\n",
      "Epoch 76/100\n",
      "54/54 [==============================] - 0s 4ms/step - loss: 0.3207 - accuracy: 0.8686 - val_loss: 0.3677 - val_accuracy: 0.8459\n",
      "Epoch 77/100\n",
      "54/54 [==============================] - 0s 3ms/step - loss: 0.3185 - accuracy: 0.8721 - val_loss: 0.3687 - val_accuracy: 0.8474\n",
      "Epoch 78/100\n",
      "54/54 [==============================] - 0s 3ms/step - loss: 0.3222 - accuracy: 0.8728 - val_loss: 0.3681 - val_accuracy: 0.8470\n",
      "Epoch 79/100\n",
      "54/54 [==============================] - 0s 3ms/step - loss: 0.3236 - accuracy: 0.8670 - val_loss: 0.3684 - val_accuracy: 0.8466\n",
      "Epoch 80/100\n",
      "54/54 [==============================] - 0s 3ms/step - loss: 0.3263 - accuracy: 0.8645 - val_loss: 0.3680 - val_accuracy: 0.8459\n",
      "Epoch 81/100\n",
      "54/54 [==============================] - 0s 4ms/step - loss: 0.3261 - accuracy: 0.8665 - val_loss: 0.3674 - val_accuracy: 0.8463\n",
      "Epoch 82/100\n",
      "54/54 [==============================] - 0s 3ms/step - loss: 0.3234 - accuracy: 0.8700 - val_loss: 0.3675 - val_accuracy: 0.8470\n",
      "Epoch 83/100\n",
      "54/54 [==============================] - 0s 3ms/step - loss: 0.3241 - accuracy: 0.8651 - val_loss: 0.3675 - val_accuracy: 0.8474\n",
      "Epoch 84/100\n",
      "54/54 [==============================] - 0s 3ms/step - loss: 0.3239 - accuracy: 0.8648 - val_loss: 0.3671 - val_accuracy: 0.8485\n",
      "Epoch 85/100\n",
      "54/54 [==============================] - 0s 4ms/step - loss: 0.3261 - accuracy: 0.8693 - val_loss: 0.3671 - val_accuracy: 0.8482\n",
      "Epoch 86/100\n",
      "54/54 [==============================] - 0s 4ms/step - loss: 0.3143 - accuracy: 0.8743 - val_loss: 0.3676 - val_accuracy: 0.8474\n",
      "Epoch 87/100\n",
      "54/54 [==============================] - 0s 2ms/step - loss: 0.3259 - accuracy: 0.8675 - val_loss: 0.3674 - val_accuracy: 0.8485\n",
      "Epoch 88/100\n",
      "54/54 [==============================] - 0s 2ms/step - loss: 0.3299 - accuracy: 0.8657 - val_loss: 0.3670 - val_accuracy: 0.8474\n",
      "Epoch 89/100\n",
      "54/54 [==============================] - 0s 2ms/step - loss: 0.3118 - accuracy: 0.8698 - val_loss: 0.3678 - val_accuracy: 0.8474\n",
      "Epoch 90/100\n",
      "54/54 [==============================] - 0s 2ms/step - loss: 0.3241 - accuracy: 0.8666 - val_loss: 0.3669 - val_accuracy: 0.8489\n",
      "Epoch 91/100\n",
      "54/54 [==============================] - 0s 2ms/step - loss: 0.3319 - accuracy: 0.8626 - val_loss: 0.3684 - val_accuracy: 0.8459\n",
      "Epoch 92/100\n",
      "54/54 [==============================] - 0s 1ms/step - loss: 0.3210 - accuracy: 0.8671 - val_loss: 0.3666 - val_accuracy: 0.8493\n",
      "Epoch 93/100\n",
      "54/54 [==============================] - 0s 2ms/step - loss: 0.3167 - accuracy: 0.8702 - val_loss: 0.3673 - val_accuracy: 0.8470\n",
      "Epoch 94/100\n",
      "54/54 [==============================] - 0s 2ms/step - loss: 0.3304 - accuracy: 0.8620 - val_loss: 0.3670 - val_accuracy: 0.8485\n",
      "Epoch 95/100\n",
      "54/54 [==============================] - 0s 2ms/step - loss: 0.3226 - accuracy: 0.8630 - val_loss: 0.3667 - val_accuracy: 0.8485\n",
      "Epoch 96/100\n",
      "54/54 [==============================] - 0s 2ms/step - loss: 0.3376 - accuracy: 0.8578 - val_loss: 0.3667 - val_accuracy: 0.8485\n",
      "Epoch 97/100\n",
      "54/54 [==============================] - 0s 2ms/step - loss: 0.3236 - accuracy: 0.8637 - val_loss: 0.3666 - val_accuracy: 0.8485\n",
      "Epoch 98/100\n",
      "54/54 [==============================] - 0s 2ms/step - loss: 0.3190 - accuracy: 0.8675 - val_loss: 0.3670 - val_accuracy: 0.8478\n",
      "Epoch 99/100\n",
      "54/54 [==============================] - 0s 2ms/step - loss: 0.3249 - accuracy: 0.8678 - val_loss: 0.3671 - val_accuracy: 0.8482\n",
      "Epoch 100/100\n",
      "54/54 [==============================] - 0s 2ms/step - loss: 0.3121 - accuracy: 0.8742 - val_loss: 0.3669 - val_accuracy: 0.8474\n"
     ]
    }
   ],
   "source": [
    "model_history = classifier.fit(X_train, y_train, validation_split=0.33, batch_size=100, epochs=100)"
   ]
  },
  {
   "cell_type": "code",
   "execution_count": 32,
   "metadata": {},
   "outputs": [
    {
     "data": {
      "text/plain": [
       "dict_keys(['loss', 'accuracy', 'val_loss', 'val_accuracy'])"
      ]
     },
     "execution_count": 32,
     "metadata": {},
     "output_type": "execute_result"
    }
   ],
   "source": [
    "model_history.history.keys()"
   ]
  },
  {
   "cell_type": "code",
   "execution_count": 33,
   "metadata": {},
   "outputs": [
    {
     "data": {
      "image/png": "[encoded data removed]",
      "text/plain": [
       "<Figure size 432x288 with 1 Axes>"
      ]
     },
     "metadata": {
      "needs_background": "light"
     },
     "output_type": "display_data"
    }
   ],
   "source": [
    "plt.plot(model_history.history['accuracy'])\n",
    "plt.plot(model_history.history['val_accuracy'])\n",
    "plt.title('model loss')\n",
    "plt.xlabel('epoch')\n",
    "plt.ylabel('accuracy')\n",
    "plt.legend(['train', 'test'], loc='upper left')\n",
    "plt.show()"
   ]
  },
  {
   "cell_type": "code",
   "execution_count": 34,
   "metadata": {},
   "outputs": [
    {
     "data": {
      "image/png": "[encoded data removed]",
      "text/plain": [
       "<Figure size 432x288 with 1 Axes>"
      ]
     },
     "metadata": {
      "needs_background": "light"
     },
     "output_type": "display_data"
    }
   ],
   "source": [
    "plt.plot(model_history.history['loss'])\n",
    "plt.plot(model_history.history['val_loss'])\n",
    "plt.title('model loss')\n",
    "plt.ylabel('loss')\n",
    "plt.xlabel('epoch')\n",
    "plt.legend(['train', 'test'], loc='upper left')\n",
    "plt.show()"
   ]
  },
  {
   "cell_type": "code",
   "execution_count": 35,
   "metadata": {},
   "outputs": [],
   "source": [
    "y_pred = classifier.predict(X_test)\n",
    "y_pred = (y_pred > 0.5)"
   ]
  },
  {
   "cell_type": "code",
   "execution_count": 36,
   "metadata": {},
   "outputs": [
    {
     "data": {
      "text/plain": [
       "array([[False],\n",
       "       [False],\n",
       "       [False],\n",
       "       ...,\n",
       "       [False],\n",
       "       [False],\n",
       "       [False]])"
      ]
     },
     "execution_count": 36,
     "metadata": {},
     "output_type": "execute_result"
    }
   ],
   "source": [
    "y_pred"
   ]
  },
  {
   "cell_type": "code",
   "execution_count": 37,
   "metadata": {},
   "outputs": [],
   "source": [
    "from sklearn.metrics import confusion_matrix\n",
    "cm = confusion_matrix(y_test, y_pred)"
   ]
  },
  {
   "cell_type": "code",
   "execution_count": 38,
   "metadata": {},
   "outputs": [
    {
     "data": {
      "text/plain": [
       "array([[1517,   78],\n",
       "       [ 199,  206]], dtype=int64)"
      ]
     },
     "execution_count": 38,
     "metadata": {},
     "output_type": "execute_result"
    }
   ],
   "source": [
    "cm"
   ]
  },
  {
   "cell_type": "code",
   "execution_count": 39,
   "metadata": {},
   "outputs": [],
   "source": [
    "from sklearn.metrics import accuracy_score\n",
    "score=accuracy_score(y_pred,y_test)"
   ]
  },
  {
   "cell_type": "code",
   "execution_count": 40,
   "metadata": {},
   "outputs": [
    {
     "data": {
      "text/plain": [
       "0.8615"
      ]
     },
     "execution_count": 40,
     "metadata": {},
     "output_type": "execute_result"
    }
   ],
   "source": [
    "score"
   ]
  },
  {
   "cell_type": "code",
   "execution_count": null,
   "metadata": {},
   "outputs": [],
   "source": []
  }
 ],
 "metadata": {
  "kernelspec": {
   "display_name": "tf2",
   "language": "python",
   "name": "tf2"
  },
  "language_info": {
   "codemirror_mode": {
    "name": "ipython",
    "version": 3
   },
   "file_extension": ".py",
   "mimetype": "text/x-python",
   "name": "python",
   "nbconvert_exporter": "python",
   "pygments_lexer": "ipython3",
   "version": "3.6.7"
  }
 },
 "nbformat": 4,
 "nbformat_minor": 4
}
